{
  "nbformat": 4,
  "nbformat_minor": 0,
  "metadata": {
    "colab": {
      "provenance": [],
      "toc_visible": true,
      "include_colab_link": true
    },
    "kernelspec": {
      "name": "python3",
      "display_name": "Python 3"
    },
    "accelerator": "GPU",
    "widgets": {
      "application/vnd.jupyter.widget-state+json": {
        "88111195bc154e1790fe36d29ba0d299": {
          "model_module": "@jupyter-widgets/controls",
          "model_name": "HBoxModel",
          "state": {
            "_view_name": "HBoxView",
            "_dom_classes": [],
            "_model_name": "HBoxModel",
            "_view_module": "@jupyter-widgets/controls",
            "_model_module_version": "1.5.0",
            "_view_count": null,
            "_view_module_version": "1.5.0",
            "box_style": "",
            "layout": "IPY_MODEL_00c5c927e03b45a584590c8a95f6b41d",
            "_model_module": "@jupyter-widgets/controls",
            "children": [
              "IPY_MODEL_a29ccb029ad94b1b8cb31a11a5869689",
              "IPY_MODEL_12cdd773265948968bc8111124c415e3"
            ]
          },
          "model_module_version": "1.5.0"
        },
        "00c5c927e03b45a584590c8a95f6b41d": {
          "model_module": "@jupyter-widgets/base",
          "model_name": "LayoutModel",
          "state": {
            "_view_name": "LayoutView",
            "grid_template_rows": null,
            "right": null,
            "justify_content": null,
            "_view_module": "@jupyter-widgets/base",
            "overflow": null,
            "_model_module_version": "1.2.0",
            "_view_count": null,
            "flex_flow": null,
            "width": null,
            "min_width": null,
            "border": null,
            "align_items": null,
            "bottom": null,
            "_model_module": "@jupyter-widgets/base",
            "top": null,
            "grid_column": null,
            "overflow_y": null,
            "overflow_x": null,
            "grid_auto_flow": null,
            "grid_area": null,
            "grid_template_columns": null,
            "flex": null,
            "_model_name": "LayoutModel",
            "justify_items": null,
            "grid_row": null,
            "max_height": null,
            "align_content": null,
            "visibility": null,
            "align_self": null,
            "height": null,
            "min_height": null,
            "padding": null,
            "grid_auto_rows": null,
            "grid_gap": null,
            "max_width": null,
            "order": null,
            "_view_module_version": "1.2.0",
            "grid_template_areas": null,
            "object_position": null,
            "object_fit": null,
            "grid_auto_columns": null,
            "margin": null,
            "display": null,
            "left": null
          },
          "model_module_version": "1.2.0"
        },
        "a29ccb029ad94b1b8cb31a11a5869689": {
          "model_module": "@jupyter-widgets/controls",
          "model_name": "FloatProgressModel",
          "state": {
            "_view_name": "ProgressView",
            "style": "IPY_MODEL_c723808e9db54779aaa83c883ed121fa",
            "_dom_classes": [],
            "description": "100%",
            "_model_name": "FloatProgressModel",
            "bar_style": "success",
            "max": 574673361,
            "_view_module": "@jupyter-widgets/controls",
            "_model_module_version": "1.5.0",
            "value": 574673361,
            "_view_count": null,
            "_view_module_version": "1.5.0",
            "orientation": "horizontal",
            "min": 0,
            "description_tooltip": null,
            "_model_module": "@jupyter-widgets/controls",
            "layout": "IPY_MODEL_b68d97c001174323b96250a00f9ae1bd"
          },
          "model_module_version": "1.5.0"
        },
        "12cdd773265948968bc8111124c415e3": {
          "model_module": "@jupyter-widgets/controls",
          "model_name": "HTMLModel",
          "state": {
            "_view_name": "HTMLView",
            "style": "IPY_MODEL_a29d5171c9ad41de961ad0d2b2ff49b0",
            "_dom_classes": [],
            "description": "",
            "_model_name": "HTMLModel",
            "placeholder": "​",
            "_view_module": "@jupyter-widgets/controls",
            "_model_module_version": "1.5.0",
            "value": " 548M/548M [00:26&lt;00:00, 21.9MB/s]",
            "_view_count": null,
            "_view_module_version": "1.5.0",
            "description_tooltip": null,
            "_model_module": "@jupyter-widgets/controls",
            "layout": "IPY_MODEL_3550d861b2cd41268a8f8582338ad7e0"
          },
          "model_module_version": "1.5.0"
        },
        "c723808e9db54779aaa83c883ed121fa": {
          "model_module": "@jupyter-widgets/controls",
          "model_name": "ProgressStyleModel",
          "state": {
            "_view_name": "StyleView",
            "_model_name": "ProgressStyleModel",
            "description_width": "initial",
            "_view_module": "@jupyter-widgets/base",
            "_model_module_version": "1.5.0",
            "_view_count": null,
            "_view_module_version": "1.2.0",
            "bar_color": null,
            "_model_module": "@jupyter-widgets/controls"
          },
          "model_module_version": "1.5.0"
        },
        "b68d97c001174323b96250a00f9ae1bd": {
          "model_module": "@jupyter-widgets/base",
          "model_name": "LayoutModel",
          "state": {
            "_view_name": "LayoutView",
            "grid_template_rows": null,
            "right": null,
            "justify_content": null,
            "_view_module": "@jupyter-widgets/base",
            "overflow": null,
            "_model_module_version": "1.2.0",
            "_view_count": null,
            "flex_flow": null,
            "width": null,
            "min_width": null,
            "border": null,
            "align_items": null,
            "bottom": null,
            "_model_module": "@jupyter-widgets/base",
            "top": null,
            "grid_column": null,
            "overflow_y": null,
            "overflow_x": null,
            "grid_auto_flow": null,
            "grid_area": null,
            "grid_template_columns": null,
            "flex": null,
            "_model_name": "LayoutModel",
            "justify_items": null,
            "grid_row": null,
            "max_height": null,
            "align_content": null,
            "visibility": null,
            "align_self": null,
            "height": null,
            "min_height": null,
            "padding": null,
            "grid_auto_rows": null,
            "grid_gap": null,
            "max_width": null,
            "order": null,
            "_view_module_version": "1.2.0",
            "grid_template_areas": null,
            "object_position": null,
            "object_fit": null,
            "grid_auto_columns": null,
            "margin": null,
            "display": null,
            "left": null
          },
          "model_module_version": "1.2.0"
        },
        "a29d5171c9ad41de961ad0d2b2ff49b0": {
          "model_module": "@jupyter-widgets/controls",
          "model_name": "DescriptionStyleModel",
          "state": {
            "_view_name": "StyleView",
            "_model_name": "DescriptionStyleModel",
            "description_width": "",
            "_view_module": "@jupyter-widgets/base",
            "_model_module_version": "1.5.0",
            "_view_count": null,
            "_view_module_version": "1.2.0",
            "_model_module": "@jupyter-widgets/controls"
          },
          "model_module_version": "1.5.0"
        },
        "3550d861b2cd41268a8f8582338ad7e0": {
          "model_module": "@jupyter-widgets/base",
          "model_name": "LayoutModel",
          "state": {
            "_view_name": "LayoutView",
            "grid_template_rows": null,
            "right": null,
            "justify_content": null,
            "_view_module": "@jupyter-widgets/base",
            "overflow": null,
            "_model_module_version": "1.2.0",
            "_view_count": null,
            "flex_flow": null,
            "width": null,
            "min_width": null,
            "border": null,
            "align_items": null,
            "bottom": null,
            "_model_module": "@jupyter-widgets/base",
            "top": null,
            "grid_column": null,
            "overflow_y": null,
            "overflow_x": null,
            "grid_auto_flow": null,
            "grid_area": null,
            "grid_template_columns": null,
            "flex": null,
            "_model_name": "LayoutModel",
            "justify_items": null,
            "grid_row": null,
            "max_height": null,
            "align_content": null,
            "visibility": null,
            "align_self": null,
            "height": null,
            "min_height": null,
            "padding": null,
            "grid_auto_rows": null,
            "grid_gap": null,
            "max_width": null,
            "order": null,
            "_view_module_version": "1.2.0",
            "grid_template_areas": null,
            "object_position": null,
            "object_fit": null,
            "grid_auto_columns": null,
            "margin": null,
            "display": null,
            "left": null
          },
          "model_module_version": "1.2.0"
        }
      }
    }
  },
  "cells": [
    {
      "cell_type": "markdown",
      "metadata": {
        "id": "view-in-github",
        "colab_type": "text"
      },
      "source": [
        "<a href=\"https://colab.research.google.com/github/detauportuno/Projeto_Pinturas_PAE/blob/main/Projeto_Pinturas_andre_sampaio.ipynb\" target=\"_parent\"><img src=\"https://colab.research.google.com/assets/colab-badge.svg\" alt=\"Open In Colab\"/></a>"
      ]
    },
    {
      "cell_type": "markdown",
      "metadata": {
        "id": "G2bu0Chb9BmG"
      },
      "source": [
        "#Introdução à inteligência artificial"
      ]
    },
    {
      "cell_type": "markdown",
      "metadata": {
        "id": "l5Ecnu0w9Bd9"
      },
      "source": [
        "##Projeto final - Classificação imagens de pinturas de diversos artistas\n",
        "Este arquivo deve ser entregue até dia 12/06/21. Para isso, adicione o seu RA no título do arquivo.\n",
        "A finalidade deste projeto é modificar o **classificador** de uma rede neural previamente treinada, onde fica a seu critério escolher qual arquitetura do modelo VGG você irá utilizar.\n",
        "Será avaliado quais foram as camadas utilizadas, funções de ativação, métodos para evitar *overfitting*, critério de perda, otimizador e quaisquer outros métodos que alterem os hiperparâmetros da rede.\n",
        "\n",
        "A precisão percentual será calculada pelo algoritmo no final deste arquivo."
      ]
    },
    {
      "cell_type": "markdown",
      "metadata": {
        "id": "cB4pwzjt_hkb"
      },
      "source": [
        "###Configuração inicial\n",
        "Para que possamos baixar o dataset do Kaggle, crie uma conta ou associe sua conta Google. Entre em \"My account\" clicando no canto superior direito (que seria seu usuário), dentro da sua conta vá até a sessão \"API\", clique no botão \"Create New API Token\".\n",
        "\n",
        "Será feito o download de um arquivo chamado \"kaggle.json\" que permitirá acesso aos datasets no Kaggle.\n",
        "Execute a célula a seguir, ela pedirá para que você insira um arquivo, portanto selecione o \"kaggle.json\" que será usado para fazer o download do dataset."
      ]
    },
    {
      "cell_type": "code",
      "metadata": {
        "id": "GuLGMn6b8t56"
      },
      "source": [
        "# Importação das bibliotecas\n",
        "import cv2 as cv\n",
        "import numpy as np\n",
        "import pandas as pd\n",
        "import argparse\n",
        "import numpy as np\n",
        "from google.colab.patches import cv2_imshow # exibição da imagem\n",
        "from skimage import io\n",
        "from PIL import Image\n",
        "import matplotlib.pylab as plt"
      ],
      "execution_count": null,
      "outputs": []
    },
    {
      "cell_type": "markdown",
      "metadata": {
        "id": "dQkOQTJIBE0K"
      },
      "source": [
        "Execute a célula a seguir para extrair os dados:"
      ]
    },
    {
      "cell_type": "code",
      "metadata": {
        "id": "YttS4gD3BFzc",
        "colab": {
          "base_uri": "https://localhost:8080/",
          "height": 130
        },
        "outputId": "aa056b40-2958-4eda-c932-2c7021d28306"
      },
      "source": [
        "# Cria uma lista para armazenar os URL das imagens\n",
        "urls = [# adicionar os URLs, tenho que entender o problema do erro HTTP 403 Forbidden]\n",
        "# Lê e exibe a imagem\n",
        "# Loopeia nos URLs da lista, é possível armazenar vários URLs de uma vez\n",
        "\n",
        "for url in urls:\n",
        "  image = io.imread(url)\n",
        "  image_2 = cv.cvtColor(image, cv.COLOR_BGR2RGB)\n",
        "  final_frame = cv.hconcat((image, image_2))\n",
        "  cv2_imshow(final_frame)\n",
        "  print('\\n')\n"
      ],
      "execution_count": null,
      "outputs": [
        {
          "output_type": "error",
          "ename": "SyntaxError",
          "evalue": "ignored",
          "traceback": [
            "\u001b[0;36m  File \u001b[0;32m\"<ipython-input-1-41c0cc3f7342>\"\u001b[0;36m, line \u001b[0;32m6\u001b[0m\n\u001b[0;31m    for url in urls:\u001b[0m\n\u001b[0m      ^\u001b[0m\n\u001b[0;31mSyntaxError\u001b[0m\u001b[0;31m:\u001b[0m invalid syntax\n"
          ]
        }
      ]
    },
    {
      "cell_type": "markdown",
      "metadata": {
        "id": "vGGXDvGEBeDB"
      },
      "source": [
        "### Definição das transformações e tamanho de lote"
      ]
    },
    {
      "cell_type": "code",
      "metadata": {
        "id": "rK7aZaHVideq",
        "colab": {
          "base_uri": "https://localhost:8080/",
          "height": 183
        },
        "outputId": "2f603a3e-37dc-4a6a-a005-921f6b822faf"
      },
      "source": [
        "# Criando parser de argumento para pegar o image path da linha de comando\n",
        "ap = argparse.ArgumentParser()\n",
        "ap.add_argument('-i', '--image', required=True, help=\"Image Path\" )\n",
        "args = vars(ap.parse_args())\n",
        "img_path = args['image']"
      ],
      "execution_count": null,
      "outputs": [
        {
          "output_type": "stream",
          "name": "stderr",
          "text": [
            "usage: ipykernel_launcher.py [-h] -i IMAGE\n",
            "ipykernel_launcher.py: error: the following arguments are required: -i/--image\n"
          ]
        },
        {
          "output_type": "error",
          "ename": "SystemExit",
          "evalue": "ignored",
          "traceback": [
            "An exception has occurred, use %tb to see the full traceback.\n",
            "\u001b[0;31mSystemExit\u001b[0m\u001b[0;31m:\u001b[0m 2\n"
          ]
        },
        {
          "output_type": "stream",
          "name": "stderr",
          "text": [
            "/usr/local/lib/python3.7/dist-packages/IPython/core/interactiveshell.py:2890: UserWarning: To exit: use 'exit', 'quit', or Ctrl-D.\n",
            "  warn(\"To exit: use 'exit', 'quit', or Ctrl-D.\", stacklevel=1)\n"
          ]
        }
      ]
    },
    {
      "cell_type": "code",
      "metadata": {
        "id": "dqmBsBRqEHUa"
      },
      "source": [
        "# Leitura da imagem com o opencv\n",
        "img = cv2.imread(img_path)\n",
        "\n",
        "# Declaração de variáveis globais\n",
        "clicked = False\n",
        "r = g = b = xpos = ypos = 0\n",
        "\n",
        "# Leitura dos arquivos csv com os pandas e dando nomes para cada coluna\n",
        "index = [\"color\", \"color_name\", \"hex\", \"R\", \"G\", \"B\"]\n",
        "csv = pd.read_csv('colors.csv', names=index, header=None)"
      ],
      "execution_count": null,
      "outputs": []
    },
    {
      "cell_type": "code",
      "metadata": {
        "id": "noYddgUdFKit",
        "colab": {
          "base_uri": "https://localhost:8080/",
          "height": 148
        },
        "outputId": "382635ce-407a-4ccf-9dfa-a9338ccd01df"
      },
      "source": [
        "# Função para calcular a mínima distância de todas as cores e determinar a cor que predomina\n",
        "def getColorName(R,G,B):\n",
        "    minimum = 10000\n",
        "    for i in range(len(csv)):\n",
        "      d = abs(R- int(csv.loc[i,\"R\"])) + abs(G- int(csv.loc[i,\"G\"])) + abs(B- int(csv.loc[i,\"B\"]))\n",
        "      if (d<=minimum):\n",
        "        minimum = d\n",
        "        cname = csv.loc[i,\"color_name\"]\n",
        "    return cname"
      ],
      "execution_count": null,
      "outputs": [
        {
          "output_type": "display_data",
          "data": {
            "image/png": "[encoded data removed]",
            "text/plain": [
              "<Figure size 432x288 with 1 Axes>"
            ]
          },
          "metadata": {
            "tags": [],
            "needs_background": "light"
          }
        }
      ]
    },
    {
      "cell_type": "code",
      "metadata": {
        "id": "XJUySLwMBdyW"
      },
      "source": [
        "# Função que pega as coordenadas x,y do double-click do mouse\n",
        "def draw_function(event, x,y,flags,param)\n",
        "  if event == cv2.EVENT_LBUTTONDBLCLK:\n",
        "    global b,g,r,xpos,ypos, clicked\n",
        "    clicked = True\n",
        "    xpos = x\n",
        "    ypos = y\n",
        "    b,g,r = img[y,x]\n",
        "    b = int (b)\n",
        "    g = int (g)\n",
        "    r = int (r)\n",
        "cv2.namedWindow('image')\n",
        "cv2.setMouseCallBack('image',draw_function)"
      ],
      "execution_count": null,
      "outputs": []
    },
    {
      "cell_type": "markdown",
      "metadata": {
        "id": "gOByrnbkFaW8"
      },
      "source": [
        "### Modelo\n",
        "\n",
        "Defina seu modelo utilizando o modelo [VGG](https://pytorch.org/docs/stable/torchvision/models.html) **pré-treinado**  e altere o classificador da rede neural."
      ]
    },
    {
      "cell_type": "code",
      "metadata": {
        "id": "muG_3uI3FZ9y",
        "colab": {
          "base_uri": "https://localhost:8080/",
          "height": 84,
          "referenced_widgets": [
            "88111195bc154e1790fe36d29ba0d299",
            "00c5c927e03b45a584590c8a95f6b41d",
            "a29ccb029ad94b1b8cb31a11a5869689",
            "12cdd773265948968bc8111124c415e3",
            "c723808e9db54779aaa83c883ed121fa",
            "b68d97c001174323b96250a00f9ae1bd",
            "a29d5171c9ad41de961ad0d2b2ff49b0",
            "3550d861b2cd41268a8f8582338ad7e0"
          ]
        },
        "outputId": "8420ad13-48e4-46cb-f313-f89336999a92"
      },
      "source": [
        "while(1):\n",
        "  cv2.imshow(\"image\",img)\n",
        "  if (clicked):\n",
        "    # Retângulo do cv2(image, startpoint, endpoint, color, thickness)-1 cabe em todo retângulo\n",
        "    cv2.rectangle(img,(20,20), (750,60), (b,g,r), -1)\n",
        "\n",
        "    # Criando string de texto para exibição(Nome da cor e valores RGB)\n",
        "    text = getColorName(r,g,b) + ' R='+ str(r) + ' G='+ str(g) + ' B='+ str(b)\n",
        "\n",
        "    # cv2.putText(img,text,start,font(0-7),fontScale,color,thickness,lineType )\n",
        "    cv2.putText(img,text,(50,50),2,0.8,(255,255,255),2,cv2.LINE_AA)\n",
        "\n",
        "    # Para cada cor muito fraca, exibiremos o texto em cor preta\n",
        "    if(r+g+b>=600):\n",
        "      cv2.putText(img,text,(50,50),2,0.8,(0,0,0),2,cv2.LINE_AA)\n",
        "    clicked=False\n",
        "  # Quebrar o loop quando usuario apertar esc\n",
        "  if cv2.waitKey(20) & 0xFF ==27:\n",
        "    break\n",
        "cv2.destroyAllWindows()"
      ],
      "execution_count": null,
      "outputs": [
        {
          "output_type": "stream",
          "text": [
            "Downloading: \"https://download.pytorch.org/models/vgg19-dcbb9e9d.pth\" to /root/.cache/torch/hub/checkpoints/vgg19-dcbb9e9d.pth\n"
          ],
          "name": "stderr"
        },
        {
          "output_type": "display_data",
          "data": {
            "application/vnd.jupyter.widget-view+json": {
              "model_id": "88111195bc154e1790fe36d29ba0d299",
              "version_minor": 0,
              "version_major": 2
            },
            "text/plain": [
              "HBox(children=(FloatProgress(value=0.0, max=574673361.0), HTML(value='')))"
            ]
          },
          "metadata": {
            "tags": []
          }
        },
        {
          "output_type": "stream",
          "text": [
            "\n"
          ],
          "name": "stdout"
        }
      ]
    },
    {
      "cell_type": "code",
      "metadata": {
        "id": "MXDfKTckxSPq"
      },
      "source": [],
      "execution_count": null,
      "outputs": []
    },
    {
      "cell_type": "markdown",
      "metadata": {
        "id": "hk1FeExyF4bv"
      },
      "source": [
        "### Treinamento"
      ]
    },
    {
      "cell_type": "code",
      "metadata": {
        "id": "5G5bz0m3F304",
        "colab": {
          "base_uri": "https://localhost:8080/",
          "height": 182
        },
        "outputId": "c3c4ce00-37e7-4909-b608-6bb5beda8744"
      },
      "source": [
        "model = train_model(model, criterion, optimizer, exp_lr_scheduler,\n",
        "                    num_epochs=5)"
      ],
      "execution_count": null,
      "outputs": [
        {
          "output_type": "error",
          "ename": "NameError",
          "evalue": "ignored",
          "traceback": [
            "\u001b[0;31m---------------------------------------------------------------------------\u001b[0m",
            "\u001b[0;31mNameError\u001b[0m                                 Traceback (most recent call last)",
            "\u001b[0;32m<ipython-input-1-03c9540c4803>\u001b[0m in \u001b[0;36m<module>\u001b[0;34m()\u001b[0m\n\u001b[0;32m----> 1\u001b[0;31m model = train_model(model, criterion, optimizer, exp_lr_scheduler,\n\u001b[0m\u001b[1;32m      2\u001b[0m                     num_epochs=5)\n",
            "\u001b[0;31mNameError\u001b[0m: name 'train_model' is not defined"
          ]
        }
      ]
    },
    {
      "cell_type": "markdown",
      "metadata": {
        "id": "pMktE0RPF8no"
      },
      "source": [
        "### Carregar o modelo"
      ]
    },
    {
      "cell_type": "code",
      "metadata": {
        "id": "edWQ4m98F9dO",
        "colab": {
          "base_uri": "https://localhost:8080/"
        },
        "outputId": "6655918d-55ec-4506-c8c9-2027650ab7a4"
      },
      "source": [
        "# Carrega o modelo\n",
        "file_name = \"model.pt\"\n",
        "model.load_state_dict(torch.load(file_name))"
      ],
      "execution_count": null,
      "outputs": [
        {
          "output_type": "execute_result",
          "data": {
            "text/plain": [
              "<All keys matched successfully>"
            ]
          },
          "metadata": {
            "tags": []
          },
          "execution_count": 13
        }
      ]
    },
    {
      "cell_type": "markdown",
      "metadata": {
        "id": "GZpNt45aGDDW"
      },
      "source": [
        "### Avaliação do projeto"
      ]
    },
    {
      "cell_type": "code",
      "metadata": {
        "id": "MjGo8JqyGB8K",
        "colab": {
          "base_uri": "https://localhost:8080/"
        },
        "outputId": "b0e4211f-40b8-46b6-de9c-2ac345de2fd7"
      },
      "source": [
        "# Faça o teste final para avaliação da rede\n",
        "test_loss = 0.0\n",
        "class_correct = list(0. for i in range(len(class_names)))\n",
        "class_total = list(0. for i in range(len(class_names)))\n",
        "batch_size = 4\n",
        "train_on_gpu = torch.cuda.is_available()\n",
        "model.eval()\n",
        "\n",
        "for batch_idx, (data, target) in enumerate(data_loader['test']):\n",
        "    # Move os tensores para a GPU se disponivel\n",
        "    if train_on_gpu:\n",
        "        data, target = data.cuda(), target.cuda()\n",
        "    # Inferência\n",
        "    output = model(data)\n",
        "    # Calcula a perda\n",
        "    loss = criterion(output, target)\n",
        "    # Atualiza a perda\n",
        "    test_loss += loss.item()*data.size(0)\n",
        "    # Convert as probabilidades para classe e escolhe somente a maior\n",
        "    _, pred = torch.max(output, 1)\n",
        "    # Compara as predições com a classe verdadeira\n",
        "    correct_tensor = pred.eq(target.data.view_as(pred))\n",
        "    correct = np.squeeze(correct_tensor.numpy()) if not train_on_gpu else np.squeeze(correct_tensor.cpu().numpy())\n",
        "    # Calcula a precisão para cada objeto\n",
        "    for i in range(batch_size):\n",
        "        if(correct.size==batch_size):\n",
        "          label = target.data[i]\n",
        "          class_correct[label] += correct[i].item()\n",
        "          class_total[label] += 1\n",
        "\n",
        "# Perda média\n",
        "test_loss = test_loss/len(data_loader['test'].dataset)\n",
        "print('Perda de teste: {:.6f}\\n'.format(test_loss))\n",
        "\n",
        "for i in range(len(class_names)):\n",
        "    if class_total[i] > 0:\n",
        "      name = class_names[i].capitalize()\n",
        "      print('Precisão de teste de %5s: %2d%% (%2d/%2d)' % (\n",
        "            name, 100 * class_correct[i] / class_total[i],\n",
        "            np.sum(class_correct[i]), np.sum(class_total[i])))\n",
        "    else:\n",
        "        print('Precisão de teste de %5s: N/A (sem dados de treinamento)' % (class_names[i]))\n",
        "overall_acc = 100. * np.sum(class_correct) / np.sum(class_total)\n",
        "print('\\nPrecisão de teste geral: %6.2f%% (%3d/%3d)' % (\n",
        "    overall_acc,\n",
        "    np.sum(class_correct), np.sum(class_total)))"
      ],
      "execution_count": null,
      "outputs": [
        {
          "output_type": "stream",
          "text": [
            "Perda de teste: 0.165150\n",
            "\n",
            "Precisão de teste de Albrecht_duтха├кrer: 10% ( 3/28)\n",
            "Precisão de teste de Albrecht_du╠иrer: 65% (27/41)\n",
            "Precisão de teste de Alfred_sisley: 100% (13/13)\n",
            "Precisão de teste de Amedeo_modigliani: 93% (14/15)\n",
            "Precisão de teste de Andrei_rublev: 69% ( 9/13)\n",
            "Precisão de teste de Andy_warhol: 100% (11/11)\n",
            "Precisão de teste de Camille_pissarro: 42% ( 3/ 7)\n",
            "Precisão de teste de Caravaggio: 80% ( 4/ 5)\n",
            "Precisão de teste de Claude_monet: 75% ( 3/ 4)\n",
            "Precisão de teste de Diego_rivera: 50% ( 2/ 4)\n",
            "Precisão de teste de Diego_velazquez: 50% ( 8/16)\n",
            "Precisão de teste de Edgar_degas: 93% (68/73)\n",
            "Precisão de teste de Edouard_manet: 36% ( 4/11)\n",
            "Precisão de teste de Edvard_munch: 30% ( 3/10)\n",
            "Precisão de teste de El_greco: 72% ( 8/11)\n",
            "Precisão de teste de Eugene_delacroix: 100% ( 1/ 1)\n",
            "Precisão de teste de Francisco_goya: 37% ( 9/24)\n",
            "Precisão de teste de Frida_kahlo: 58% ( 7/12)\n",
            "Precisão de teste de Georges_seurat: 33% ( 1/ 3)\n",
            "Precisão de teste de Giotto_di_bondone: 73% (14/19)\n",
            "Precisão de teste de Gustav_klimt: 33% ( 4/12)\n",
            "Precisão de teste de Gustave_courbet:  0% ( 0/ 6)\n",
            "Precisão de teste de Henri_matisse: 60% (12/20)\n",
            "Precisão de teste de Henri_rousseau: 60% ( 6/10)\n",
            "Precisão de teste de Henri_de_toulouse-lautrec: 11% ( 1/ 9)\n",
            "Precisão de teste de Hieronymus_bosch: 66% ( 6/ 9)\n",
            "Precisão de teste de Jackson_pollock: 100% ( 4/ 4)\n",
            "Precisão de teste de Jan_van_eyck: 50% ( 5/10)\n",
            "Precisão de teste de Joan_miro: 58% ( 7/12)\n",
            "Precisão de teste de Kazimir_malevich: 54% ( 6/11)\n",
            "Precisão de teste de Leonardo_da_vinci: 57% ( 8/14)\n",
            "Precisão de teste de Marc_chagall: 66% (16/24)\n",
            "Precisão de teste de Michelangelo: 60% ( 3/ 5)\n",
            "Precisão de teste de Mikhail_vrubel: 58% (10/17)\n",
            "Precisão de teste de Pablo_picasso: 34% (17/49)\n",
            "Precisão de teste de Paul_cezanne: 25% ( 2/ 8)\n",
            "Precisão de teste de Paul_gauguin: 50% (15/30)\n",
            "Precisão de teste de Paul_klee: 54% (12/22)\n",
            "Precisão de teste de Peter_paul_rubens: 42% ( 6/14)\n",
            "Precisão de teste de Pierre-auguste_renoir: 59% (22/37)\n",
            "Precisão de teste de Piet_mondrian: 25% ( 1/ 4)\n",
            "Precisão de teste de Pieter_bruegel: 50% ( 5/10)\n",
            "Precisão de teste de Raphael: 33% ( 3/ 9)\n",
            "Precisão de teste de Rembrandt: 54% (13/24)\n",
            "Precisão de teste de Rene_magritte: 56% ( 9/16)\n",
            "Precisão de teste de Salvador_dali: 38% ( 5/13)\n",
            "Precisão de teste de Sandro_botticelli: 66% ( 8/12)\n",
            "Precisão de teste de Titian: 65% (25/38)\n",
            "Precisão de teste de Vasiliy_kandinskiy: 25% ( 1/ 4)\n",
            "Precisão de teste de Vincent_van_gogh: 75% (72/96)\n",
            "Precisão de teste de William_turner: 16% ( 1/ 6)\n",
            "\n",
            "Precisão de teste geral:  59.02% (517/876)\n"
          ],
          "name": "stdout"
        }
      ]
    },
    {
      "cell_type": "markdown",
      "metadata": {
        "id": "ouTt0kzXv-rH"
      },
      "source": [
        "### Insira sua imagem (opcional)"
      ]
    },
    {
      "cell_type": "code",
      "metadata": {
        "id": "U_S4L4oxKy_a",
        "colab": {
          "resources": {
            "http://localhost:8080/nbextensions/google.colab/files.js": {
              "data": "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",
              "ok": true,
              "headers": [
                [
                  "content-type",
                  "application/javascript"
                ]
              ],
              "status": 200,
              "status_text": ""
            }
          },
          "base_uri": "https://localhost:8080/",
          "height": 39
        },
        "outputId": "29b37602-5ab4-4c18-a544-911f9a99c0fc"
      },
      "source": [
        " files.upload()"
      ],
      "execution_count": null,
      "outputs": [
        {
          "output_type": "display_data",
          "data": {
            "text/html": [
              "\n",
              "     <input type=\"file\" id=\"files-61f6b298-41a2-467f-9951-9cefbbc20267\" name=\"files[]\" multiple disabled\n",
              "        style=\"border:none\" />\n",
              "     <output id=\"result-61f6b298-41a2-467f-9951-9cefbbc20267\">\n",
              "      Upload widget is only available when the cell has been executed in the\n",
              "      current browser session. Please rerun this cell to enable.\n",
              "      </output>\n",
              "      <script src=\"/nbextensions/google.colab/files.js\"></script> "
            ],
            "text/plain": [
              "<IPython.core.display.HTML object>"
            ]
          },
          "metadata": {
            "tags": []
          }
        }
      ]
    },
    {
      "cell_type": "code",
      "metadata": {
        "id": "zMUlH4VTwb6v"
      },
      "source": [
        "from PIL import Image\n",
        "\n",
        "# Carrega imagem\n",
        "image = Image.open(\"download.jpeg\")\n",
        "# Aplica transformações\n",
        "input = data_transforms['test'](image)\n",
        "# Entra em modo de avaliação\n",
        "model.eval()\n",
        "# Muda o modelo para a CPU\n",
        "model.to(torch.device(\"cpu\"))\n",
        "# Faz a inferência\n",
        "logit = model(input.unsqueeze(0))\n",
        "# Cria uma \"camada\" de softmax\n",
        "softmax = nn.Softmax(dim=1)\n",
        "# Aplica saida\n",
        "out = softmax(logit)\n",
        "# Analisa saida\n",
        "value, indice = out.topk(1)\n",
        "# Mostra probabilidade e classe\n",
        "print(\"Probabilidade de {} de ser {}\".format(float(value),class_names[int(indice)]))"
      ],
      "execution_count": null,
      "outputs": []
    },
    {
      "cell_type": "code",
      "metadata": {
        "id": "Cs1xij_4ySO6"
      },
      "source": [],
      "execution_count": null,
      "outputs": []
    }
  ]
}