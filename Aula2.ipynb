{
  "nbformat": 4,
  "nbformat_minor": 0,
  "metadata": {
    "colab": {
      "provenance": [],
      "toc_visible": true,
      "include_colab_link": true
    },
    "kernelspec": {
      "name": "python3",
      "display_name": "Python 3"
    }
  },
  "cells": [
    {
      "cell_type": "markdown",
      "metadata": {
        "id": "view-in-github",
        "colab_type": "text"
      },
      "source": [
        "<a href=\"https://colab.research.google.com/github/detauportuno/Projeto_Pinturas_PAE/blob/main/Aula2.ipynb\" target=\"_parent\"><img src=\"https://colab.research.google.com/assets/colab-badge.svg\" alt=\"Open In Colab\"/></a>"
      ]
    },
    {
      "cell_type": "markdown",
      "metadata": {
        "id": "P24Iiw4NajfV"
      },
      "source": [
        "#Introdução à inteligência artificial\n"
      ]
    },
    {
      "cell_type": "markdown",
      "metadata": {
        "id": "4z7wxNfLalWj"
      },
      "source": [
        "##Aula 2 - Perceptrons e redes neurais artificiais\n",
        "\n",
        "Em um sistema biológico, os neurônios são responsáveis pelo processamento de informação. A excitação de um neurônio depende de um estímulo prévio vindo de uma rede neural e suas respectivas ligações sinápticas.\n",
        "\n",
        "\n",
        "Neurônio:\n",
        "<div align=\"center\">\n",
        "<img src=\"https://s4.static.brasilescola.uol.com.br/img/2017/11/neuronio.jpg\" width=200px>\n",
        "</div>\n",
        "\n",
        "\n",
        "O \"neurônio\" artificial para classificação é modelado através de pesos \"sinápticos\" e funções de ativação.\n",
        "\n",
        "Modelo de perceptron:\n",
        "<div align=\"center\">\n",
        "<img src=\"https://cdn-images-1.medium.com/freeze/max/1000/1*RzoXI8IYBScpMxdF3G47KQ.png?q=20\" width=400px align=\"center\">\n",
        "</div>\n",
        "\n",
        "\n",
        "A seguir, vamos fazer criar neurônios para simular comportamento de portas lógicas. Basicamente, cada entrada do perceptron receberá um peso (que nós vamos definir) e será multiplicado pelo sinal de entrada. Os resultados serão somados e a função de ativação degrau unitário decidirá se a saída é ativada ou não:\n",
        "\n",
        "<div align=\"center\">\n",
        "<img src=\"https://3.bp.blogspot.com/-QNq8EZVF4H0/WbMsop7QBYI/AAAAAAAAAFQ/GtDovVD2ItwrbPvv5lOflVUGZ3K_9T19wCLcBGAs/s1600/Janela%2Bgr%25C3%25A1fica%2Bn%25C3%25BAmero%2B1.png\" width=400px>\n",
        "</div>\n"
      ]
    },
    {
      "cell_type": "code",
      "metadata": {
        "id": "nHrNN1zyY5gL"
      },
      "source": [
        "#@title Importação de biblioteca\n",
        "import pandas as pd\n",
        "import matplotlib.pyplot as plt\n",
        "import numpy as np\n",
        "%matplotlib inline"
      ],
      "execution_count": null,
      "outputs": []
    },
    {
      "cell_type": "markdown",
      "metadata": {
        "id": "n81gDQg2iw7N"
      },
      "source": [
        "###Perceptron AND"
      ]
    },
    {
      "cell_type": "markdown",
      "metadata": {
        "id": "Pqc9XnHVwZ8r"
      },
      "source": [
        "Tabela verdade de uma porta lógica AND:\n",
        "\\begin{array}{C|C|C}\n",
        "Entrada 1 & Entrada 2 & Saida\\\\\n",
        "\\hline\n",
        "0 & 0 & 0 \\\\\n",
        "0 & 1 & 0 \\\\\n",
        "1 & 0 & 0 \\\\\n",
        "1 & 1 & 1\n",
        "\\end{array}"
      ]
    },
    {
      "cell_type": "code",
      "metadata": {
        "id": "kYI-NAlelK5r"
      },
      "source": [
        "# TODO: Altere os valores\n",
        "weight1 = 1\n",
        "weight2 = 1\n",
        "bias =  -1.5"
      ],
      "execution_count": null,
      "outputs": []
    },
    {
      "cell_type": "code",
      "metadata": {
        "id": "zCYo_tuM3sFQ",
        "colab": {
          "base_uri": "https://localhost:8080/",
          "height": 557
        },
        "outputId": "78adce23-a525-4eed-e2a5-fe4fdcc342a6"
      },
      "source": [
        "#@title Imprimir resultados\n",
        "# Não mude nada a partir deste ponto\n",
        "# Valores de entradas e saídas\n",
        "test_inputs = [(0, 0), (0, 1), (1, 0), (1, 1)]\n",
        "correct_outputs = [False, False, False, True]\n",
        "outputs = []\n",
        "\n",
        "# Gera e checa saída\n",
        "for test_input, correct_output in zip(test_inputs, correct_outputs):\n",
        "    linear_combination = weight1 * test_input[0] + weight2 * test_input[1] + bias\n",
        "    output = int(linear_combination >= 0)\n",
        "    is_correct_string = 'Sim' if output == correct_output else 'Não'\n",
        "    outputs.append([test_input[0], test_input[1], linear_combination, output, is_correct_string])\n",
        "\n",
        "# Imprime resultado\n",
        "num_wrong = len([output[4] for output in outputs if output[4] == 'Não'])\n",
        "output_frame = pd.DataFrame(outputs, columns=['Entrada 1', '  Entrada 2', '  Combinação linear', '  Ativação da saída', '  Está corrreto?'])\n",
        "if not num_wrong:\n",
        "    print('Acertou todos os pontos!\\n')\n",
        "else:\n",
        "    print('Você errou {} pontos.  Continue tentando!\\n'.format(num_wrong))\n",
        "print(output_frame.to_string(index=False))\n",
        "\n",
        "# Plotar gráfico\n",
        "x1=-50\n",
        "x2=50\n",
        "y1=-(weight1*x1+bias)/weight2\n",
        "y2=-(weight1*x2+bias)/weight2\n",
        "plt.plot([0,0,1], [0,1,0], 'ro')\n",
        "plt.plot([1],[1],'bo')\n",
        "plt.plot([x1,x2],[y1,y2],'k')\n",
        "plt.grid(True)\n",
        "plt.axis([-1, 2, -1, 2]);"
      ],
      "execution_count": null,
      "outputs": [
        {
          "output_type": "stream",
          "name": "stdout",
          "text": [
            "Acertou todos os pontos!\n",
            "\n",
            " Entrada 1    Entrada 2    Combinação linear    Ativação da saída   Está corrreto?\n",
            "         0            0                 -1.5                    0              Sim\n",
            "         0            1                 -0.5                    0              Sim\n",
            "         1            0                 -0.5                    0              Sim\n",
            "         1            1                  0.5                    1              Sim\n"
          ]
        },
        {
          "output_type": "display_data",
          "data": {
            "text/plain": [
              "<Figure size 640x480 with 1 Axes>"
            ],
            "image/png": "[encoded data removed]"
          },
          "metadata": {}
        }
      ]
    },
    {
      "cell_type": "markdown",
      "metadata": {
        "id": "CNuMru9ui50M"
      },
      "source": [
        "###Perceptron OR"
      ]
    },
    {
      "cell_type": "markdown",
      "metadata": {
        "id": "HDKrceJbx9dI"
      },
      "source": [
        "Tabela verdade de uma porta lógica OR:\n",
        "\\begin{array}{C|C|C}\n",
        "Entrada 1 & Entrada 2 & Saida\\\\\n",
        "\\hline\n",
        "0 & 0 & 0 \\\\\n",
        "0 & 1 & 1 \\\\\n",
        "1 & 0 & 1 \\\\\n",
        "1 & 1 & 1\n",
        "\\end{array}"
      ]
    },
    {
      "cell_type": "code",
      "metadata": {
        "id": "BaTBdYC6lQ9r",
        "cellView": "both"
      },
      "source": [
        "# TODO: Altere os valores\n",
        "weight1 = 1\n",
        "weight2 = 1\n",
        "bias = -0.5\n"
      ],
      "execution_count": null,
      "outputs": []
    },
    {
      "cell_type": "code",
      "metadata": {
        "id": "QHGtU4MmYyvU",
        "cellView": "form",
        "colab": {
          "base_uri": "https://localhost:8080/",
          "height": 557
        },
        "outputId": "74d0c62e-3e4e-4e9a-b725-aac00746ffd5"
      },
      "source": [
        "#@title Imprimir resultados\n",
        "# Não mude nada a partir deste ponto\n",
        "# Valores de entradas e saídas\n",
        "test_inputs = [(0, 0), (0, 1), (1, 0), (1, 1)]\n",
        "correct_outputs = [False, True, True, True]\n",
        "outputs = []\n",
        "\n",
        "# Gera e checa saída\n",
        "for test_input, correct_output in zip(test_inputs, correct_outputs):\n",
        "    linear_combination = weight1 * test_input[0] + weight2 * test_input[1] + bias\n",
        "    output = int(linear_combination >= 0)\n",
        "    is_correct_string = 'Sim' if output == correct_output else 'Não'\n",
        "    outputs.append([test_input[0], test_input[1], linear_combination, output, is_correct_string])\n",
        "\n",
        "# Imprime resultado\n",
        "num_wrong = len([output[4] for output in outputs if output[4] == 'Não'])\n",
        "output_frame = pd.DataFrame(outputs, columns=['Entrada 1', '  Entrada 2', '  Combinação linear', '  Ativação da saída', '  Está corrreto?'])\n",
        "if not num_wrong:\n",
        "    print('Acertou todos os pontos!\\n')\n",
        "else:\n",
        "    print('Você errou {} pontos.  Continue tentando!\\n'.format(num_wrong))\n",
        "print(output_frame.to_string(index=False))\n",
        "\n",
        "# Plotar gráfico\n",
        "x1=-50\n",
        "x2=50\n",
        "y1=-(weight1*x1+bias)/weight2\n",
        "y2=-(weight1*x2+bias)/weight2\n",
        "plt.plot([0], [0], 'ro')\n",
        "plt.plot([0,1,1],[1,0,1],'bo')\n",
        "plt.plot([x1,x2],[y1,y2],'k')\n",
        "plt.grid(True)\n",
        "plt.axis([-1, 2, -1, 2]);"
      ],
      "execution_count": null,
      "outputs": [
        {
          "output_type": "stream",
          "name": "stdout",
          "text": [
            "Acertou todos os pontos!\n",
            "\n",
            " Entrada 1    Entrada 2    Combinação linear    Ativação da saída   Está corrreto?\n",
            "         0            0                 -0.5                    0              Sim\n",
            "         0            1                  0.5                    1              Sim\n",
            "         1            0                  0.5                    1              Sim\n",
            "         1            1                  1.5                    1              Sim\n"
          ]
        },
        {
          "output_type": "display_data",
          "data": {
            "text/plain": [
              "<Figure size 640x480 with 1 Axes>"
            ],
            "image/png": "[encoded data removed]"
          },
          "metadata": {}
        }
      ]
    },
    {
      "cell_type": "markdown",
      "metadata": {
        "id": "2ZMCXVI-uHLK"
      },
      "source": [
        "### Perceptron XOR"
      ]
    },
    {
      "cell_type": "markdown",
      "metadata": {
        "id": "iVRTivlR1ZV7"
      },
      "source": [
        "Tabela verdade de uma porta lógica XOR:\n",
        "\\begin{array}{C|C|C}\n",
        "Entrada 1 & Entrada 2 & Saida\\\\\n",
        "\\hline\n",
        "0 & 0 & 0 \\\\\n",
        "0 & 1 & 1 \\\\\n",
        "1 & 0 & 1 \\\\\n",
        "1 & 1 & 0\n",
        "\\end{array}"
      ]
    },
    {
      "cell_type": "code",
      "metadata": {
        "id": "dw54mVWKuN1Y"
      },
      "source": [
        "# TODO: Altere os valores\n",
        "weight1 = 1\n",
        "weight2 = 1\n",
        "bias = 1"
      ],
      "execution_count": null,
      "outputs": []
    },
    {
      "cell_type": "code",
      "metadata": {
        "id": "Z6qEaaXvmWlm",
        "cellView": "form",
        "colab": {
          "base_uri": "https://localhost:8080/",
          "height": 557
        },
        "outputId": "bf54d856-a4ac-46af-800a-aa0199914914"
      },
      "source": [
        "#@title Imprimir resultados\n",
        "# Não mude nada a partir deste ponto\n",
        "# Valores de entradas e saídas\n",
        "test_inputs = [(0, 0), (0, 1), (1, 0), (1, 1)]\n",
        "correct_outputs = [False, True, True, False]\n",
        "outputs = []\n",
        "\n",
        "# Gera e checa saída\n",
        "for test_input, correct_output in zip(test_inputs, correct_outputs):\n",
        "    linear_combination = weight1 * test_input[0] + weight2 * test_input[1] + bias\n",
        "    output = int(linear_combination >= 0)\n",
        "    is_correct_string = 'Sim' if output == correct_output else 'Não'\n",
        "    outputs.append([test_input[0], test_input[1], linear_combination, output, is_correct_string])\n",
        "\n",
        "# Imprime resultado\n",
        "num_wrong = len([output[4] for output in outputs if output[4] == 'Não'])\n",
        "output_frame = pd.DataFrame(outputs, columns=['Entrada 1', '  Entrada 2', '  Combinação linear', '  Ativação da saída', '  Está corrreto?'])\n",
        "if not num_wrong:\n",
        "    print('Acertou todos os pontos!\\n')\n",
        "else:\n",
        "    print('Você errou {} pontos.  Continue tentando!\\n'.format(num_wrong))\n",
        "print(output_frame.to_string(index=False))\n",
        "\n",
        "# Plotar gráfico\n",
        "x1=-50\n",
        "x2=50\n",
        "y1=-(weight1*x1+bias)/weight2\n",
        "y2=-(weight1*x2+bias)/weight2\n",
        "plt.plot([0,1], [0,1], 'ro')\n",
        "plt.plot([0,1],[1,0],'bo')\n",
        "plt.plot([x1,x2],[y1,y2],'k')\n",
        "plt.grid(True)\n",
        "plt.axis([-1, 2, -1, 2]);"
      ],
      "execution_count": null,
      "outputs": [
        {
          "output_type": "stream",
          "name": "stdout",
          "text": [
            "Você errou 2 pontos.  Continue tentando!\n",
            "\n",
            " Entrada 1    Entrada 2    Combinação linear    Ativação da saída   Está corrreto?\n",
            "         0            0                    1                    1              Não\n",
            "         0            1                    2                    1              Sim\n",
            "         1            0                    2                    1              Sim\n",
            "         1            1                    3                    1              Não\n"
          ]
        },
        {
          "output_type": "display_data",
          "data": {
            "text/plain": [
              "<Figure size 640x480 with 1 Axes>"
            ],
            "image/png": "[encoded data removed]"
          },
          "metadata": {}
        }
      ]
    },
    {
      "cell_type": "markdown",
      "metadata": {
        "id": "bGSjZTpp8Usd"
      },
      "source": [
        "###Rede neural"
      ]
    },
    {
      "cell_type": "markdown",
      "metadata": {
        "id": "x223HfHACwn4"
      },
      "source": [
        "O \"Deep Learning\" é baseado em redes neurais artificiais que existem de alguma forma desde o final da década de 1950. As redes são construídas a partir de partes individuais que se aproximam dos neurônios, normalmente chamadas de unidades ou simplesmente \"neurônios\". Cada unidade possui algum número de entradas ponderadas. Essas entradas ponderadas são somadas (uma combinação linear) e depois passadas por uma função de ativação para obter a saída da unidade.\n",
        "\n",
        "<div align=\"center\">\n",
        "<img src=\"https://cdn-images-1.medium.com/freeze/max/1000/1*RzoXI8IYBScpMxdF3G47KQ.png?q=20\" width=400px align=\"middle\">\n",
        "</div>\n",
        "\n",
        "Matematicamente, isso se parece com:\n",
        "\n",
        "$$\n",
        "\\begin{align}\n",
        "y &= f(w_1 x_1 + w_2 x_2 + b) \\\\\n",
        "y &= f\\left(\\sum_i w_i x_i +b \\right)\n",
        "\\end{align}\n",
        "$$\n",
        "\n",
        "Este é o produto escalar de dois vetores:\n",
        "\n",
        "$$\n",
        "h = \\begin{bmatrix}\n",
        "x_1 \\, x_2 \\cdots  x_n\n",
        "\\end{bmatrix}\n",
        "\\cdot\n",
        "\\begin{bmatrix}\n",
        "           w_1 \\\\\n",
        "           w_2 \\\\\n",
        "           \\vdots \\\\\n",
        "           w_n\n",
        "\\end{bmatrix}\n",
        "$$"
      ]
    },
    {
      "cell_type": "code",
      "metadata": {
        "id": "ndSxZK7BurM-"
      },
      "source": [
        "# Funções auxiliares\n",
        "def plot_points(X, y):\n",
        "    admitted = X[np.argwhere(y==1)]\n",
        "    rejected = X[np.argwhere(y==0)]\n",
        "    plt.scatter([s[0][0] for s in rejected], [s[0][1] for s in rejected], s = 25, color = 'blue', edgecolor = 'k')\n",
        "    plt.scatter([s[0][0] for s in admitted], [s[0][1] for s in admitted], s = 25, color = 'red', edgecolor = 'k')\n",
        "\n",
        "def display(m, b, color='g--'):\n",
        "    plt.xlim(-0.05,1.05)\n",
        "    plt.ylim(-0.05,1.05)\n",
        "    x = np.arange(-10, 10, 0.1)\n",
        "    plt.plot(x, m*x+b, color)"
      ],
      "execution_count": null,
      "outputs": []
    },
    {
      "cell_type": "code",
      "metadata": {
        "id": "GaMt6Wi-8dI3",
        "colab": {
          "base_uri": "https://localhost:8080/",
          "height": 455
        },
        "outputId": "f3833dbf-aab1-40da-e79f-1d082873fab7"
      },
      "source": [
        "# Importando os dados\n",
        "data = pd.read_csv('data.csv', header=None)\n",
        "X = np.array(data[[0,1]])\n",
        "y = np.array(data[2])\n",
        "plot_points(X,y)\n",
        "plt.show()"
      ],
      "execution_count": null,
      "outputs": [
        {
          "output_type": "error",
          "ename": "FileNotFoundError",
          "evalue": "ignored",
          "traceback": [
            "\u001b[0;31m---------------------------------------------------------------------------\u001b[0m",
            "\u001b[0;31mFileNotFoundError\u001b[0m                         Traceback (most recent call last)",
            "\u001b[0;32m<ipython-input-6-b7abb957ddcd>\u001b[0m in \u001b[0;36m<module>\u001b[0;34m()\u001b[0m\n\u001b[1;32m      1\u001b[0m \u001b[0;31m# Importando os dados\u001b[0m\u001b[0;34m\u001b[0m\u001b[0;34m\u001b[0m\u001b[0;34m\u001b[0m\u001b[0m\n\u001b[0;32m----> 2\u001b[0;31m \u001b[0mdata\u001b[0m \u001b[0;34m=\u001b[0m \u001b[0mpd\u001b[0m\u001b[0;34m.\u001b[0m\u001b[0mread_csv\u001b[0m\u001b[0;34m(\u001b[0m\u001b[0;34m'data.csv'\u001b[0m\u001b[0;34m,\u001b[0m \u001b[0mheader\u001b[0m\u001b[0;34m=\u001b[0m\u001b[0;32mNone\u001b[0m\u001b[0;34m)\u001b[0m\u001b[0;34m\u001b[0m\u001b[0;34m\u001b[0m\u001b[0m\n\u001b[0m\u001b[1;32m      3\u001b[0m \u001b[0mX\u001b[0m \u001b[0;34m=\u001b[0m \u001b[0mnp\u001b[0m\u001b[0;34m.\u001b[0m\u001b[0marray\u001b[0m\u001b[0;34m(\u001b[0m\u001b[0mdata\u001b[0m\u001b[0;34m[\u001b[0m\u001b[0;34m[\u001b[0m\u001b[0;36m0\u001b[0m\u001b[0;34m,\u001b[0m\u001b[0;36m1\u001b[0m\u001b[0;34m]\u001b[0m\u001b[0;34m]\u001b[0m\u001b[0;34m)\u001b[0m\u001b[0;34m\u001b[0m\u001b[0;34m\u001b[0m\u001b[0m\n\u001b[1;32m      4\u001b[0m \u001b[0my\u001b[0m \u001b[0;34m=\u001b[0m \u001b[0mnp\u001b[0m\u001b[0;34m.\u001b[0m\u001b[0marray\u001b[0m\u001b[0;34m(\u001b[0m\u001b[0mdata\u001b[0m\u001b[0;34m[\u001b[0m\u001b[0;36m2\u001b[0m\u001b[0;34m]\u001b[0m\u001b[0;34m)\u001b[0m\u001b[0;34m\u001b[0m\u001b[0;34m\u001b[0m\u001b[0m\n\u001b[1;32m      5\u001b[0m \u001b[0mplot_points\u001b[0m\u001b[0;34m(\u001b[0m\u001b[0mX\u001b[0m\u001b[0;34m,\u001b[0m\u001b[0my\u001b[0m\u001b[0;34m)\u001b[0m\u001b[0;34m\u001b[0m\u001b[0;34m\u001b[0m\u001b[0m\n",
            "\u001b[0;32m/usr/local/lib/python3.7/dist-packages/pandas/io/parsers.py\u001b[0m in \u001b[0;36mread_csv\u001b[0;34m(filepath_or_buffer, sep, delimiter, header, names, index_col, usecols, squeeze, prefix, mangle_dupe_cols, dtype, engine, converters, true_values, false_values, skipinitialspace, skiprows, skipfooter, nrows, na_values, keep_default_na, na_filter, verbose, skip_blank_lines, parse_dates, infer_datetime_format, keep_date_col, date_parser, dayfirst, cache_dates, iterator, chunksize, compression, thousands, decimal, lineterminator, quotechar, quoting, doublequote, escapechar, comment, encoding, dialect, error_bad_lines, warn_bad_lines, delim_whitespace, low_memory, memory_map, float_precision)\u001b[0m\n\u001b[1;32m    686\u001b[0m     )\n\u001b[1;32m    687\u001b[0m \u001b[0;34m\u001b[0m\u001b[0m\n\u001b[0;32m--> 688\u001b[0;31m     \u001b[0;32mreturn\u001b[0m \u001b[0m_read\u001b[0m\u001b[0;34m(\u001b[0m\u001b[0mfilepath_or_buffer\u001b[0m\u001b[0;34m,\u001b[0m \u001b[0mkwds\u001b[0m\u001b[0;34m)\u001b[0m\u001b[0;34m\u001b[0m\u001b[0;34m\u001b[0m\u001b[0m\n\u001b[0m\u001b[1;32m    689\u001b[0m \u001b[0;34m\u001b[0m\u001b[0m\n\u001b[1;32m    690\u001b[0m \u001b[0;34m\u001b[0m\u001b[0m\n",
            "\u001b[0;32m/usr/local/lib/python3.7/dist-packages/pandas/io/parsers.py\u001b[0m in \u001b[0;36m_read\u001b[0;34m(filepath_or_buffer, kwds)\u001b[0m\n\u001b[1;32m    452\u001b[0m \u001b[0;34m\u001b[0m\u001b[0m\n\u001b[1;32m    453\u001b[0m     \u001b[0;31m# Create the parser.\u001b[0m\u001b[0;34m\u001b[0m\u001b[0;34m\u001b[0m\u001b[0;34m\u001b[0m\u001b[0m\n\u001b[0;32m--> 454\u001b[0;31m     \u001b[0mparser\u001b[0m \u001b[0;34m=\u001b[0m \u001b[0mTextFileReader\u001b[0m\u001b[0;34m(\u001b[0m\u001b[0mfp_or_buf\u001b[0m\u001b[0;34m,\u001b[0m \u001b[0;34m**\u001b[0m\u001b[0mkwds\u001b[0m\u001b[0;34m)\u001b[0m\u001b[0;34m\u001b[0m\u001b[0;34m\u001b[0m\u001b[0m\n\u001b[0m\u001b[1;32m    455\u001b[0m \u001b[0;34m\u001b[0m\u001b[0m\n\u001b[1;32m    456\u001b[0m     \u001b[0;32mif\u001b[0m \u001b[0mchunksize\u001b[0m \u001b[0;32mor\u001b[0m \u001b[0miterator\u001b[0m\u001b[0;34m:\u001b[0m\u001b[0;34m\u001b[0m\u001b[0;34m\u001b[0m\u001b[0m\n",
            "\u001b[0;32m/usr/local/lib/python3.7/dist-packages/pandas/io/parsers.py\u001b[0m in \u001b[0;36m__init__\u001b[0;34m(self, f, engine, **kwds)\u001b[0m\n\u001b[1;32m    946\u001b[0m             \u001b[0mself\u001b[0m\u001b[0;34m.\u001b[0m\u001b[0moptions\u001b[0m\u001b[0;34m[\u001b[0m\u001b[0;34m\"has_index_names\"\u001b[0m\u001b[0;34m]\u001b[0m \u001b[0;34m=\u001b[0m \u001b[0mkwds\u001b[0m\u001b[0;34m[\u001b[0m\u001b[0;34m\"has_index_names\"\u001b[0m\u001b[0;34m]\u001b[0m\u001b[0;34m\u001b[0m\u001b[0;34m\u001b[0m\u001b[0m\n\u001b[1;32m    947\u001b[0m \u001b[0;34m\u001b[0m\u001b[0m\n\u001b[0;32m--> 948\u001b[0;31m         \u001b[0mself\u001b[0m\u001b[0;34m.\u001b[0m\u001b[0m_make_engine\u001b[0m\u001b[0;34m(\u001b[0m\u001b[0mself\u001b[0m\u001b[0;34m.\u001b[0m\u001b[0mengine\u001b[0m\u001b[0;34m)\u001b[0m\u001b[0;34m\u001b[0m\u001b[0;34m\u001b[0m\u001b[0m\n\u001b[0m\u001b[1;32m    949\u001b[0m \u001b[0;34m\u001b[0m\u001b[0m\n\u001b[1;32m    950\u001b[0m     \u001b[0;32mdef\u001b[0m \u001b[0mclose\u001b[0m\u001b[0;34m(\u001b[0m\u001b[0mself\u001b[0m\u001b[0;34m)\u001b[0m\u001b[0;34m:\u001b[0m\u001b[0;34m\u001b[0m\u001b[0;34m\u001b[0m\u001b[0m\n",
            "\u001b[0;32m/usr/local/lib/python3.7/dist-packages/pandas/io/parsers.py\u001b[0m in \u001b[0;36m_make_engine\u001b[0;34m(self, engine)\u001b[0m\n\u001b[1;32m   1178\u001b[0m     \u001b[0;32mdef\u001b[0m \u001b[0m_make_engine\u001b[0m\u001b[0;34m(\u001b[0m\u001b[0mself\u001b[0m\u001b[0;34m,\u001b[0m \u001b[0mengine\u001b[0m\u001b[0;34m=\u001b[0m\u001b[0;34m\"c\"\u001b[0m\u001b[0;34m)\u001b[0m\u001b[0;34m:\u001b[0m\u001b[0;34m\u001b[0m\u001b[0;34m\u001b[0m\u001b[0m\n\u001b[1;32m   1179\u001b[0m         \u001b[0;32mif\u001b[0m \u001b[0mengine\u001b[0m \u001b[0;34m==\u001b[0m \u001b[0;34m\"c\"\u001b[0m\u001b[0;34m:\u001b[0m\u001b[0;34m\u001b[0m\u001b[0;34m\u001b[0m\u001b[0m\n\u001b[0;32m-> 1180\u001b[0;31m             \u001b[0mself\u001b[0m\u001b[0;34m.\u001b[0m\u001b[0m_engine\u001b[0m \u001b[0;34m=\u001b[0m \u001b[0mCParserWrapper\u001b[0m\u001b[0;34m(\u001b[0m\u001b[0mself\u001b[0m\u001b[0;34m.\u001b[0m\u001b[0mf\u001b[0m\u001b[0;34m,\u001b[0m \u001b[0;34m**\u001b[0m\u001b[0mself\u001b[0m\u001b[0;34m.\u001b[0m\u001b[0moptions\u001b[0m\u001b[0;34m)\u001b[0m\u001b[0;34m\u001b[0m\u001b[0;34m\u001b[0m\u001b[0m\n\u001b[0m\u001b[1;32m   1181\u001b[0m         \u001b[0;32melse\u001b[0m\u001b[0;34m:\u001b[0m\u001b[0;34m\u001b[0m\u001b[0;34m\u001b[0m\u001b[0m\n\u001b[1;32m   1182\u001b[0m             \u001b[0;32mif\u001b[0m \u001b[0mengine\u001b[0m \u001b[0;34m==\u001b[0m \u001b[0;34m\"python\"\u001b[0m\u001b[0;34m:\u001b[0m\u001b[0;34m\u001b[0m\u001b[0;34m\u001b[0m\u001b[0m\n",
            "\u001b[0;32m/usr/local/lib/python3.7/dist-packages/pandas/io/parsers.py\u001b[0m in \u001b[0;36m__init__\u001b[0;34m(self, src, **kwds)\u001b[0m\n\u001b[1;32m   2008\u001b[0m         \u001b[0mkwds\u001b[0m\u001b[0;34m[\u001b[0m\u001b[0;34m\"usecols\"\u001b[0m\u001b[0;34m]\u001b[0m \u001b[0;34m=\u001b[0m \u001b[0mself\u001b[0m\u001b[0;34m.\u001b[0m\u001b[0musecols\u001b[0m\u001b[0;34m\u001b[0m\u001b[0;34m\u001b[0m\u001b[0m\n\u001b[1;32m   2009\u001b[0m \u001b[0;34m\u001b[0m\u001b[0m\n\u001b[0;32m-> 2010\u001b[0;31m         \u001b[0mself\u001b[0m\u001b[0;34m.\u001b[0m\u001b[0m_reader\u001b[0m \u001b[0;34m=\u001b[0m \u001b[0mparsers\u001b[0m\u001b[0;34m.\u001b[0m\u001b[0mTextReader\u001b[0m\u001b[0;34m(\u001b[0m\u001b[0msrc\u001b[0m\u001b[0;34m,\u001b[0m \u001b[0;34m**\u001b[0m\u001b[0mkwds\u001b[0m\u001b[0;34m)\u001b[0m\u001b[0;34m\u001b[0m\u001b[0;34m\u001b[0m\u001b[0m\n\u001b[0m\u001b[1;32m   2011\u001b[0m         \u001b[0mself\u001b[0m\u001b[0;34m.\u001b[0m\u001b[0munnamed_cols\u001b[0m \u001b[0;34m=\u001b[0m \u001b[0mself\u001b[0m\u001b[0;34m.\u001b[0m\u001b[0m_reader\u001b[0m\u001b[0;34m.\u001b[0m\u001b[0munnamed_cols\u001b[0m\u001b[0;34m\u001b[0m\u001b[0;34m\u001b[0m\u001b[0m\n\u001b[1;32m   2012\u001b[0m \u001b[0;34m\u001b[0m\u001b[0m\n",
            "\u001b[0;32mpandas/_libs/parsers.pyx\u001b[0m in \u001b[0;36mpandas._libs.parsers.TextReader.__cinit__\u001b[0;34m()\u001b[0m\n",
            "\u001b[0;32mpandas/_libs/parsers.pyx\u001b[0m in \u001b[0;36mpandas._libs.parsers.TextReader._setup_parser_source\u001b[0;34m()\u001b[0m\n",
            "\u001b[0;31mFileNotFoundError\u001b[0m: [Errno 2] No such file or directory: 'data.csv'"
          ]
        }
      ]
    },
    {
      "cell_type": "markdown",
      "metadata": {
        "id": "rvuqqA3A851-"
      },
      "source": [
        "### TODO: Implementando as funções básicas\n",
        "Implemente as seguintes fórmulas, conforme explicadas no texto.\n",
        "- Função de ativação sigmóide\n",
        "\n",
        "$$\\sigma(x) = \\frac{1}{1+e^{-x}}$$\n",
        "\n",
        "- Fórmula de saída (previsão)\n",
        "\n",
        "$$\\hat{y} = \\sigma(w_1 x_1 + w_2 x_2 + b)$$\n",
        "\n",
        "- Função de erro\n",
        "\n",
        "$$Erro(y, \\hat{y}) = - y \\log(\\hat{y}) - (1-y) \\log(1-\\hat{y})$$\n",
        "\n",
        "- A função que atualiza os pesos\n",
        "\n",
        "$$ w_i \\longrightarrow w_i + \\alpha (y - \\hat{y}) x_i$$\n",
        "\n",
        "$$ b \\longrightarrow b + \\alpha (y - \\hat{y})$$\n",
        "\n",
        "As funções serão utilizadas para treinar a rede neural a fim de segmentar os dados que foram previamente importados."
      ]
    },
    {
      "cell_type": "code",
      "metadata": {
        "id": "mSJbj9fs9QKl"
      },
      "source": [
        "# TODO: Implemente as seguintes funções\n",
        "def sigmoid(x):\n",
        "    return (1/1+np.exp(-x))\n",
        "\n",
        "def output_formula(weights, features, bias):\n",
        "    return sigmoid(np.dot(weights, features)+ bias)\n",
        "\n",
        "def error_formula(y, output):\n",
        "    return -y*np.log(output)-(1-y)*np.log(1-output)\n",
        "\n",
        "def update_weights(x, y, weights, bias, learnrate):\n",
        "    output = output_formula(x, weights, bias)\n",
        "    d_error = y - output\n",
        "    weights += learnrate * d_error * x\n",
        "    bias += learnrate * d_error\n",
        "    return weights, bias"
      ],
      "execution_count": null,
      "outputs": []
    },
    {
      "cell_type": "markdown",
      "metadata": {
        "id": "KfWTK6No-Qxv"
      },
      "source": [
        "### Função de treinamento\n",
        "Essa função nos ajudará a iterar o algoritmo a fim de procurar o menor erro. Ele também plotará os dados e algumas das linhas de limite obtidas à medida que executamos o algoritmo."
      ]
    },
    {
      "cell_type": "code",
      "metadata": {
        "id": "dXa56ksF-PqY"
      },
      "source": [
        "np.random.seed(44)\n",
        "\n",
        "epochs = 100\n",
        "learnrate = 0.01\n",
        "\n",
        "def train(features, targets, epochs, learnrate, graph_lines=False):\n",
        "\n",
        "    errors = []\n",
        "    n_records, n_features = features.shape\n",
        "    last_loss = None\n",
        "    weights = np.random.normal(scale=1 / n_features**.5, size=n_features)\n",
        "    bias = 0\n",
        "    for e in range(epochs):\n",
        "        del_w = np.zeros(weights.shape)\n",
        "        for x, y in zip(features, targets):\n",
        "            output = output_formula(x, weights, bias)\n",
        "            error = error_formula(y, output)\n",
        "            weights, bias = update_weights(x, y, weights, bias, learnrate)\n",
        "\n",
        "        out = output_formula(features, weights, bias)\n",
        "        loss = np.mean(error_formula(targets, out))\n",
        "        errors.append(loss)\n",
        "        if e % (epochs / 10) == 0:\n",
        "            print(\"\\n========== Época\", e,\"==========\")\n",
        "            if last_loss and last_loss < loss:\n",
        "                print(\"Perda no treino: \", loss, \"  Aviso! O erro está aumentando\")\n",
        "            else:\n",
        "                print(\"Perdo no treino: \", loss)\n",
        "            last_loss = loss\n",
        "            predictions = out > 0.5\n",
        "            accuracy = np.mean(predictions == targets)\n",
        "            print(\"Precisão: \", accuracy)\n",
        "        if graph_lines and e % (epochs / 100) == 0:\n",
        "            display(-weights[0]/weights[1], -bias/weights[1])\n",
        "\n",
        "\n",
        "    # Plotting the solution boundary\n",
        "    plt.title(\"Solução\")\n",
        "    display(-weights[0]/weights[1], -bias/weights[1], 'black')\n",
        "\n",
        "    # Plotting the data\n",
        "    plot_points(features, targets)\n",
        "    plt.show()\n",
        "\n",
        "    # Plotting the error\n",
        "    plt.title(\"Erro\")\n",
        "    plt.xlabel('Número de \\'épocas\\'')\n",
        "    plt.ylabel('Erro')\n",
        "    plt.plot(errors)\n",
        "    plt.show()"
      ],
      "execution_count": null,
      "outputs": []
    },
    {
      "cell_type": "code",
      "metadata": {
        "id": "xaLd0iqOqpMB",
        "colab": {
          "base_uri": "https://localhost:8080/",
          "height": 1000
        },
        "outputId": "ef3dc077-bb19-451a-eac4-5f13ecb412a2"
      },
      "source": [
        "train(X, y, epochs, learnrate, True)"
      ],
      "execution_count": null,
      "outputs": [
        {
          "output_type": "stream",
          "text": [
            "/usr/local/lib/python3.7/dist-packages/ipykernel_launcher.py:9: RuntimeWarning: invalid value encountered in log\n",
            "  if __name__ == '__main__':\n",
            "/usr/local/lib/python3.7/dist-packages/ipykernel_launcher.py:3: RuntimeWarning: overflow encountered in exp\n",
            "  This is separate from the ipykernel package so we can avoid doing imports until\n",
            "/usr/local/lib/python3.7/dist-packages/ipykernel_launcher.py:9: RuntimeWarning: invalid value encountered in multiply\n",
            "  if __name__ == '__main__':\n",
            "/usr/local/lib/python3.7/dist-packages/ipykernel_launcher.py:34: RuntimeWarning: invalid value encountered in double_scalars\n"
          ],
          "name": "stderr"
        },
        {
          "output_type": "stream",
          "text": [
            "\n",
            "========== Época 0 ==========\n",
            "Perdo no treino:  nan\n",
            "Precisão:  0.49\n",
            "\n",
            "========== Época 10 ==========\n",
            "Perdo no treino:  nan\n",
            "Precisão:  0.5\n",
            "\n",
            "========== Época 20 ==========\n",
            "Perdo no treino:  nan\n",
            "Precisão:  0.5\n",
            "\n",
            "========== Época 30 ==========\n",
            "Perdo no treino:  nan\n",
            "Precisão:  0.5\n",
            "\n",
            "========== Época 40 ==========\n",
            "Perdo no treino:  nan\n",
            "Precisão:  0.5\n",
            "\n",
            "========== Época 50 ==========\n",
            "Perdo no treino:  nan\n",
            "Precisão:  0.5\n",
            "\n",
            "========== Época 60 ==========\n",
            "Perdo no treino:  nan\n",
            "Precisão:  0.5\n",
            "\n",
            "========== Época 70 ==========\n",
            "Perdo no treino:  nan\n",
            "Precisão:  0.5\n",
            "\n",
            "========== Época 80 ==========\n",
            "Perdo no treino:  nan\n",
            "Precisão:  0.5\n",
            "\n",
            "========== Época 90 ==========\n",
            "Perdo no treino:  nan\n",
            "Precisão:  0.5\n"
          ],
          "name": "stdout"
        },
        {
          "output_type": "display_data",
          "data": {
            "image/png": "[encoded data removed]",
            "text/plain": [
              "<Figure size 432x288 with 1 Axes>"
            ]
          },
          "metadata": {
            "tags": [],
            "needs_background": "light"
          }
        },
        {
          "output_type": "display_data",
          "data": {
            "image/png": "[encoded data removed]",
            "text/plain": [
              "<Figure size 432x288 with 1 Axes>"
            ]
          },
          "metadata": {
            "tags": [],
            "needs_background": "light"
          }
        }
      ]
    },
    {
      "cell_type": "code",
      "metadata": {
        "id": "7Kyj3sM3YPmj"
      },
      "source": [],
      "execution_count": null,
      "outputs": []
    }
  ]
}